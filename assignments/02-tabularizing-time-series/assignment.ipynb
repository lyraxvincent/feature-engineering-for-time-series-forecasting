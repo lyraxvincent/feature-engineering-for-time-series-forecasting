{
 "cells": [
  {
   "cell_type": "markdown",
   "id": "2d1a73ab",
   "metadata": {},
   "source": [
    "# Tabularize time series\n",
    "\n",
    "In this assignment, your task is to convert **time series data** into a **tabular data set**.\n",
    "\n",
    "You need to create suitable input features from a time series containing weekly sales to be able to forecast sales for the next week.\n",
    "\n",
    "To prepare the dataset for this assignment, please follow the guidelines in the notebook `02-create-online-retail-II-datasets.ipynb` in the `01-Create-Datasets` folder."
   ]
  },
  {
   "cell_type": "code",
   "execution_count": 4,
   "id": "f4510761",
   "metadata": {},
   "outputs": [],
   "source": [
    "import pandas as pd"
   ]
  },
  {
   "cell_type": "code",
   "execution_count": 14,
   "id": "f53976d3",
   "metadata": {},
   "outputs": [
    {
     "data": {
      "text/html": [
       "<div>\n",
       "<style scoped>\n",
       "    .dataframe tbody tr th:only-of-type {\n",
       "        vertical-align: middle;\n",
       "    }\n",
       "\n",
       "    .dataframe tbody tr th {\n",
       "        vertical-align: top;\n",
       "    }\n",
       "\n",
       "    .dataframe thead th {\n",
       "        text-align: right;\n",
       "    }\n",
       "</style>\n",
       "<table border=\"1\" class=\"dataframe\">\n",
       "  <thead>\n",
       "    <tr style=\"text-align: right;\">\n",
       "      <th></th>\n",
       "      <th>sales</th>\n",
       "    </tr>\n",
       "    <tr>\n",
       "      <th>week</th>\n",
       "      <th></th>\n",
       "    </tr>\n",
       "  </thead>\n",
       "  <tbody>\n",
       "    <tr>\n",
       "      <th>2009-12-06</th>\n",
       "      <td>213000.35</td>\n",
       "    </tr>\n",
       "    <tr>\n",
       "      <th>2009-12-13</th>\n",
       "      <td>195810.04</td>\n",
       "    </tr>\n",
       "    <tr>\n",
       "      <th>2009-12-20</th>\n",
       "      <td>182396.74</td>\n",
       "    </tr>\n",
       "    <tr>\n",
       "      <th>2009-12-27</th>\n",
       "      <td>22007.77</td>\n",
       "    </tr>\n",
       "    <tr>\n",
       "      <th>2010-01-03</th>\n",
       "      <td>0.00</td>\n",
       "    </tr>\n",
       "  </tbody>\n",
       "</table>\n",
       "</div>"
      ],
      "text/plain": [
       "                sales\n",
       "week                 \n",
       "2009-12-06  213000.35\n",
       "2009-12-13  195810.04\n",
       "2009-12-20  182396.74\n",
       "2009-12-27   22007.77\n",
       "2010-01-03       0.00"
      ]
     },
     "execution_count": 14,
     "metadata": {},
     "output_type": "execute_result"
    }
   ],
   "source": [
    "# load weekly sales dataset\n",
    "\n",
    "filename = \"../../Datasets/online_retail_dataset.csv\"\n",
    "\n",
    "df = pd.read_csv(\n",
    "    filename,\n",
    "    usecols=[\"week\", \"United Kingdom\"],\n",
    "    parse_dates=[\"week\"],\n",
    "    index_col=[\"week\"],\n",
    ")\n",
    "\n",
    "df.columns = ['sales']\n",
    "\n",
    "df.head()"
   ]
  },
  {
   "cell_type": "code",
   "execution_count": 3,
   "id": "7f4a5ce5",
   "metadata": {},
   "outputs": [
    {
     "data": {
      "text/html": [
       "<div>\n",
       "<style scoped>\n",
       "    .dataframe tbody tr th:only-of-type {\n",
       "        vertical-align: middle;\n",
       "    }\n",
       "\n",
       "    .dataframe tbody tr th {\n",
       "        vertical-align: top;\n",
       "    }\n",
       "\n",
       "    .dataframe thead th {\n",
       "        text-align: right;\n",
       "    }\n",
       "</style>\n",
       "<table border=\"1\" class=\"dataframe\">\n",
       "  <thead>\n",
       "    <tr style=\"text-align: right;\">\n",
       "      <th></th>\n",
       "      <th>sales</th>\n",
       "    </tr>\n",
       "    <tr>\n",
       "      <th>week</th>\n",
       "      <th></th>\n",
       "    </tr>\n",
       "  </thead>\n",
       "  <tbody>\n",
       "    <tr>\n",
       "      <th>2009-12-06</th>\n",
       "      <td>213000.35</td>\n",
       "    </tr>\n",
       "    <tr>\n",
       "      <th>2009-12-13</th>\n",
       "      <td>195810.04</td>\n",
       "    </tr>\n",
       "    <tr>\n",
       "      <th>2009-12-20</th>\n",
       "      <td>182396.74</td>\n",
       "    </tr>\n",
       "    <tr>\n",
       "      <th>2009-12-27</th>\n",
       "      <td>22007.77</td>\n",
       "    </tr>\n",
       "    <tr>\n",
       "      <th>2010-01-03</th>\n",
       "      <td>0.00</td>\n",
       "    </tr>\n",
       "    <tr>\n",
       "      <th>...</th>\n",
       "      <td>...</td>\n",
       "    </tr>\n",
       "    <tr>\n",
       "      <th>2011-11-13</th>\n",
       "      <td>229378.01</td>\n",
       "    </tr>\n",
       "    <tr>\n",
       "      <th>2011-11-20</th>\n",
       "      <td>221870.29</td>\n",
       "    </tr>\n",
       "    <tr>\n",
       "      <th>2011-11-27</th>\n",
       "      <td>210741.76</td>\n",
       "    </tr>\n",
       "    <tr>\n",
       "      <th>2011-12-04</th>\n",
       "      <td>220213.99</td>\n",
       "    </tr>\n",
       "    <tr>\n",
       "      <th>2011-12-11</th>\n",
       "      <td>372946.26</td>\n",
       "    </tr>\n",
       "  </tbody>\n",
       "</table>\n",
       "<p>106 rows × 1 columns</p>\n",
       "</div>"
      ],
      "text/plain": [
       "                sales\n",
       "week                 \n",
       "2009-12-06  213000.35\n",
       "2009-12-13  195810.04\n",
       "2009-12-20  182396.74\n",
       "2009-12-27   22007.77\n",
       "2010-01-03       0.00\n",
       "...               ...\n",
       "2011-11-13  229378.01\n",
       "2011-11-20  221870.29\n",
       "2011-11-27  210741.76\n",
       "2011-12-04  220213.99\n",
       "2011-12-11  372946.26\n",
       "\n",
       "[106 rows x 1 columns]"
      ]
     },
     "execution_count": 3,
     "metadata": {},
     "output_type": "execute_result"
    }
   ],
   "source": [
    "df"
   ]
  },
  {
   "cell_type": "markdown",
   "id": "cdfe9415",
   "metadata": {},
   "source": [
    "# Data analysis\n",
    "\n",
    "First, explore the time series.\n",
    "\n",
    "## Plot time series"
   ]
  },
  {
   "cell_type": "code",
   "execution_count": 4,
   "id": "220ad11d",
   "metadata": {},
   "outputs": [
    {
     "data": {
      "text/plain": [
       "<AxesSubplot: xlabel='week'>"
      ]
     },
     "execution_count": 4,
     "metadata": {},
     "output_type": "execute_result"
    },
    {
     "data": {
      "image/png": "[encoded data removed]",
      "text/plain": [
       "<Figure size 640x480 with 1 Axes>"
      ]
     },
     "metadata": {},
     "output_type": "display_data"
    }
   ],
   "source": [
    "df.plot()"
   ]
  },
  {
   "attachments": {},
   "cell_type": "markdown",
   "id": "9ff3e933",
   "metadata": {},
   "source": [
    "Doesn't look like there's missing data  \n",
    "Chacking for seasonality:"
   ]
  },
  {
   "cell_type": "code",
   "execution_count": 5,
   "id": "a8c163ba",
   "metadata": {},
   "outputs": [
    {
     "data": {
      "text/plain": [
       "<AxesSubplot: xlabel='week'>"
      ]
     },
     "execution_count": 5,
     "metadata": {},
     "output_type": "execute_result"
    },
    {
     "data": {
      "image/png": "[encoded data removed]",
      "text/plain": [
       "<Figure size 640x480 with 1 Axes>"
      ]
     },
     "metadata": {},
     "output_type": "display_data"
    }
   ],
   "source": [
    "# daily seasonality\n",
    "df.groupby(df.index.day).mean().plot()"
   ]
  },
  {
   "cell_type": "code",
   "execution_count": 6,
   "metadata": {},
   "outputs": [
    {
     "data": {
      "text/plain": [
       "<AxesSubplot: xlabel='week'>"
      ]
     },
     "execution_count": 6,
     "metadata": {},
     "output_type": "execute_result"
    },
    {
     "data": {
      "image/png": "[encoded data removed]",
      "text/plain": [
       "<Figure size 640x480 with 1 Axes>"
      ]
     },
     "metadata": {},
     "output_type": "display_data"
    }
   ],
   "source": [
    "# monthly seasonality\n",
    "df.groupby(df.index.month).mean().plot()"
   ]
  },
  {
   "attachments": {},
   "cell_type": "markdown",
   "id": "defe4381",
   "metadata": {},
   "source": [
    "There's daily and monthly seasonality."
   ]
  },
  {
   "cell_type": "markdown",
   "id": "6ceabd79",
   "metadata": {},
   "source": [
    "## Missing data\n",
    "\n",
    "Check if there are missing values in the time series."
   ]
  },
  {
   "cell_type": "code",
   "execution_count": 7,
   "id": "57e00b99",
   "metadata": {},
   "outputs": [
    {
     "data": {
      "text/plain": [
       "sales    0\n",
       "dtype: int64"
      ]
     },
     "execution_count": 7,
     "metadata": {},
     "output_type": "execute_result"
    }
   ],
   "source": [
    "df.asfreq('W').isnull().sum()"
   ]
  },
  {
   "cell_type": "markdown",
   "id": "9c484bca",
   "metadata": {},
   "source": [
    "## Missing timestamps\n",
    "\n",
    "Check if there are missing timestamps in the index."
   ]
  },
  {
   "cell_type": "markdown",
   "id": "444ca303",
   "metadata": {},
   "source": [
    "## Seasonality\n",
    "\n",
    "Does the time series show any obvious seasonal pattern?"
   ]
  },
  {
   "cell_type": "markdown",
   "id": "e81565cb",
   "metadata": {},
   "source": [
    "# Feature engineering\n",
    "\n",
    "Now, let's begin to tabularize the data."
   ]
  },
  {
   "cell_type": "code",
   "execution_count": 3,
   "id": "63ec97d4",
   "metadata": {},
   "outputs": [],
   "source": [
    "from feature_engine.creation import CyclicalFeatures"
   ]
  },
  {
   "cell_type": "code",
   "execution_count": 12,
   "id": "c9daf5bc",
   "metadata": {},
   "outputs": [],
   "source": [
    "def add_features(df):\n",
    "    \n",
    "    df['year'] = df.index.year\n",
    "    df['month'] = df.index.month\n",
    "    df['day'] = df.index.day\n",
    "    #df['day_week'] = df.index.day_of_week\n",
    "    #df['weekend'] = df.index.day_of_week.apply(lambda x: 0 if x<5 else 1)\n",
    "    \n",
    "    # lag features\n",
    "    df['lag1'] = df.sales.shift(1)\n",
    "    df['lag4'] = df.sales.shift(4)\n",
    "    \n",
    "    # window features -> avg last 2/4 weeks\n",
    "    df['windowlast2weeks'] = df.sales.rolling(window='14D').mean().shift(freq='1W')\n",
    "    df['windowlast4weeks'] = df.sales.rolling(window='30D').mean().shift(freq='1W')\n",
    "    \n",
    "    # cyclic features\n",
    "    cyclic = CyclicalFeatures(variables=['year', 'month', 'day'], drop_original=False)\n",
    "    df = cyclic.fit_transform(df)\n",
    "    \n",
    "    return df"
   ]
  },
  {
   "cell_type": "code",
   "execution_count": 15,
   "id": "28698da3",
   "metadata": {},
   "outputs": [
    {
     "data": {
      "text/html": [
       "<div>\n",
       "<style scoped>\n",
       "    .dataframe tbody tr th:only-of-type {\n",
       "        vertical-align: middle;\n",
       "    }\n",
       "\n",
       "    .dataframe tbody tr th {\n",
       "        vertical-align: top;\n",
       "    }\n",
       "\n",
       "    .dataframe thead th {\n",
       "        text-align: right;\n",
       "    }\n",
       "</style>\n",
       "<table border=\"1\" class=\"dataframe\">\n",
       "  <thead>\n",
       "    <tr style=\"text-align: right;\">\n",
       "      <th></th>\n",
       "      <th>sales</th>\n",
       "      <th>year</th>\n",
       "      <th>month</th>\n",
       "      <th>day</th>\n",
       "      <th>lag1</th>\n",
       "      <th>lag4</th>\n",
       "      <th>windowlast2weeks</th>\n",
       "      <th>windowlast4weeks</th>\n",
       "      <th>year_sin</th>\n",
       "      <th>year_cos</th>\n",
       "      <th>month_sin</th>\n",
       "      <th>month_cos</th>\n",
       "      <th>day_sin</th>\n",
       "      <th>day_cos</th>\n",
       "    </tr>\n",
       "    <tr>\n",
       "      <th>week</th>\n",
       "      <th></th>\n",
       "      <th></th>\n",
       "      <th></th>\n",
       "      <th></th>\n",
       "      <th></th>\n",
       "      <th></th>\n",
       "      <th></th>\n",
       "      <th></th>\n",
       "      <th></th>\n",
       "      <th></th>\n",
       "      <th></th>\n",
       "      <th></th>\n",
       "      <th></th>\n",
       "      <th></th>\n",
       "    </tr>\n",
       "  </thead>\n",
       "  <tbody>\n",
       "    <tr>\n",
       "      <th>2009-12-06</th>\n",
       "      <td>213000.35</td>\n",
       "      <td>2009</td>\n",
       "      <td>12</td>\n",
       "      <td>6</td>\n",
       "      <td>NaN</td>\n",
       "      <td>NaN</td>\n",
       "      <td>NaN</td>\n",
       "      <td>NaN</td>\n",
       "      <td>-6.248776e-03</td>\n",
       "      <td>0.999980</td>\n",
       "      <td>-2.449294e-16</td>\n",
       "      <td>1.000000</td>\n",
       "      <td>0.937752</td>\n",
       "      <td>0.347305</td>\n",
       "    </tr>\n",
       "    <tr>\n",
       "      <th>2009-12-13</th>\n",
       "      <td>195810.04</td>\n",
       "      <td>2009</td>\n",
       "      <td>12</td>\n",
       "      <td>13</td>\n",
       "      <td>213000.35</td>\n",
       "      <td>NaN</td>\n",
       "      <td>213000.350</td>\n",
       "      <td>213000.350000</td>\n",
       "      <td>-6.248776e-03</td>\n",
       "      <td>0.999980</td>\n",
       "      <td>-2.449294e-16</td>\n",
       "      <td>1.000000</td>\n",
       "      <td>0.485302</td>\n",
       "      <td>-0.874347</td>\n",
       "    </tr>\n",
       "    <tr>\n",
       "      <th>2009-12-20</th>\n",
       "      <td>182396.74</td>\n",
       "      <td>2009</td>\n",
       "      <td>12</td>\n",
       "      <td>20</td>\n",
       "      <td>195810.04</td>\n",
       "      <td>NaN</td>\n",
       "      <td>204405.195</td>\n",
       "      <td>204405.195000</td>\n",
       "      <td>-6.248776e-03</td>\n",
       "      <td>0.999980</td>\n",
       "      <td>-2.449294e-16</td>\n",
       "      <td>1.000000</td>\n",
       "      <td>-0.790776</td>\n",
       "      <td>-0.612106</td>\n",
       "    </tr>\n",
       "    <tr>\n",
       "      <th>2009-12-27</th>\n",
       "      <td>22007.77</td>\n",
       "      <td>2009</td>\n",
       "      <td>12</td>\n",
       "      <td>27</td>\n",
       "      <td>182396.74</td>\n",
       "      <td>NaN</td>\n",
       "      <td>189103.390</td>\n",
       "      <td>197069.043333</td>\n",
       "      <td>-6.248776e-03</td>\n",
       "      <td>0.999980</td>\n",
       "      <td>-2.449294e-16</td>\n",
       "      <td>1.000000</td>\n",
       "      <td>-0.724793</td>\n",
       "      <td>0.688967</td>\n",
       "    </tr>\n",
       "    <tr>\n",
       "      <th>2010-01-03</th>\n",
       "      <td>0.00</td>\n",
       "      <td>2010</td>\n",
       "      <td>1</td>\n",
       "      <td>3</td>\n",
       "      <td>22007.77</td>\n",
       "      <td>213000.35</td>\n",
       "      <td>102202.255</td>\n",
       "      <td>153303.725000</td>\n",
       "      <td>-3.124403e-03</td>\n",
       "      <td>0.999995</td>\n",
       "      <td>5.000000e-01</td>\n",
       "      <td>0.866025</td>\n",
       "      <td>0.571268</td>\n",
       "      <td>0.820763</td>\n",
       "    </tr>\n",
       "    <tr>\n",
       "      <th>...</th>\n",
       "      <td>...</td>\n",
       "      <td>...</td>\n",
       "      <td>...</td>\n",
       "      <td>...</td>\n",
       "      <td>...</td>\n",
       "      <td>...</td>\n",
       "      <td>...</td>\n",
       "      <td>...</td>\n",
       "      <td>...</td>\n",
       "      <td>...</td>\n",
       "      <td>...</td>\n",
       "      <td>...</td>\n",
       "      <td>...</td>\n",
       "      <td>...</td>\n",
       "    </tr>\n",
       "    <tr>\n",
       "      <th>2011-11-13</th>\n",
       "      <td>229378.01</td>\n",
       "      <td>2011</td>\n",
       "      <td>11</td>\n",
       "      <td>13</td>\n",
       "      <td>226770.53</td>\n",
       "      <td>161438.54</td>\n",
       "      <td>208402.365</td>\n",
       "      <td>202212.576000</td>\n",
       "      <td>-2.449294e-16</td>\n",
       "      <td>1.000000</td>\n",
       "      <td>-5.000000e-01</td>\n",
       "      <td>0.866025</td>\n",
       "      <td>0.485302</td>\n",
       "      <td>-0.874347</td>\n",
       "    </tr>\n",
       "    <tr>\n",
       "      <th>2011-11-20</th>\n",
       "      <td>221870.29</td>\n",
       "      <td>2011</td>\n",
       "      <td>11</td>\n",
       "      <td>20</td>\n",
       "      <td>229378.01</td>\n",
       "      <td>179106.07</td>\n",
       "      <td>228074.270</td>\n",
       "      <td>197345.470000</td>\n",
       "      <td>-2.449294e-16</td>\n",
       "      <td>1.000000</td>\n",
       "      <td>-5.000000e-01</td>\n",
       "      <td>0.866025</td>\n",
       "      <td>-0.790776</td>\n",
       "      <td>-0.612106</td>\n",
       "    </tr>\n",
       "    <tr>\n",
       "      <th>2011-11-27</th>\n",
       "      <td>210741.76</td>\n",
       "      <td>2011</td>\n",
       "      <td>11</td>\n",
       "      <td>27</td>\n",
       "      <td>221870.29</td>\n",
       "      <td>190034.20</td>\n",
       "      <td>225624.150</td>\n",
       "      <td>209431.820000</td>\n",
       "      <td>-2.449294e-16</td>\n",
       "      <td>1.000000</td>\n",
       "      <td>-5.000000e-01</td>\n",
       "      <td>0.866025</td>\n",
       "      <td>-0.724793</td>\n",
       "      <td>0.688967</td>\n",
       "    </tr>\n",
       "    <tr>\n",
       "      <th>2011-12-04</th>\n",
       "      <td>220213.99</td>\n",
       "      <td>2011</td>\n",
       "      <td>12</td>\n",
       "      <td>4</td>\n",
       "      <td>210741.76</td>\n",
       "      <td>226770.53</td>\n",
       "      <td>216306.025</td>\n",
       "      <td>215758.958000</td>\n",
       "      <td>-2.449294e-16</td>\n",
       "      <td>1.000000</td>\n",
       "      <td>-2.449294e-16</td>\n",
       "      <td>1.000000</td>\n",
       "      <td>0.724793</td>\n",
       "      <td>0.688967</td>\n",
       "    </tr>\n",
       "    <tr>\n",
       "      <th>2011-12-11</th>\n",
       "      <td>372946.26</td>\n",
       "      <td>2011</td>\n",
       "      <td>12</td>\n",
       "      <td>11</td>\n",
       "      <td>220213.99</td>\n",
       "      <td>229378.01</td>\n",
       "      <td>215477.875</td>\n",
       "      <td>221794.916000</td>\n",
       "      <td>-2.449294e-16</td>\n",
       "      <td>1.000000</td>\n",
       "      <td>-2.449294e-16</td>\n",
       "      <td>1.000000</td>\n",
       "      <td>0.790776</td>\n",
       "      <td>-0.612106</td>\n",
       "    </tr>\n",
       "  </tbody>\n",
       "</table>\n",
       "<p>106 rows × 14 columns</p>\n",
       "</div>"
      ],
      "text/plain": [
       "                sales  year  month  day       lag1       lag4  \\\n",
       "week                                                            \n",
       "2009-12-06  213000.35  2009     12    6        NaN        NaN   \n",
       "2009-12-13  195810.04  2009     12   13  213000.35        NaN   \n",
       "2009-12-20  182396.74  2009     12   20  195810.04        NaN   \n",
       "2009-12-27   22007.77  2009     12   27  182396.74        NaN   \n",
       "2010-01-03       0.00  2010      1    3   22007.77  213000.35   \n",
       "...               ...   ...    ...  ...        ...        ...   \n",
       "2011-11-13  229378.01  2011     11   13  226770.53  161438.54   \n",
       "2011-11-20  221870.29  2011     11   20  229378.01  179106.07   \n",
       "2011-11-27  210741.76  2011     11   27  221870.29  190034.20   \n",
       "2011-12-04  220213.99  2011     12    4  210741.76  226770.53   \n",
       "2011-12-11  372946.26  2011     12   11  220213.99  229378.01   \n",
       "\n",
       "            windowlast2weeks  windowlast4weeks      year_sin  year_cos  \\\n",
       "week                                                                     \n",
       "2009-12-06               NaN               NaN -6.248776e-03  0.999980   \n",
       "2009-12-13        213000.350     213000.350000 -6.248776e-03  0.999980   \n",
       "2009-12-20        204405.195     204405.195000 -6.248776e-03  0.999980   \n",
       "2009-12-27        189103.390     197069.043333 -6.248776e-03  0.999980   \n",
       "2010-01-03        102202.255     153303.725000 -3.124403e-03  0.999995   \n",
       "...                      ...               ...           ...       ...   \n",
       "2011-11-13        208402.365     202212.576000 -2.449294e-16  1.000000   \n",
       "2011-11-20        228074.270     197345.470000 -2.449294e-16  1.000000   \n",
       "2011-11-27        225624.150     209431.820000 -2.449294e-16  1.000000   \n",
       "2011-12-04        216306.025     215758.958000 -2.449294e-16  1.000000   \n",
       "2011-12-11        215477.875     221794.916000 -2.449294e-16  1.000000   \n",
       "\n",
       "               month_sin  month_cos   day_sin   day_cos  \n",
       "week                                                     \n",
       "2009-12-06 -2.449294e-16   1.000000  0.937752  0.347305  \n",
       "2009-12-13 -2.449294e-16   1.000000  0.485302 -0.874347  \n",
       "2009-12-20 -2.449294e-16   1.000000 -0.790776 -0.612106  \n",
       "2009-12-27 -2.449294e-16   1.000000 -0.724793  0.688967  \n",
       "2010-01-03  5.000000e-01   0.866025  0.571268  0.820763  \n",
       "...                  ...        ...       ...       ...  \n",
       "2011-11-13 -5.000000e-01   0.866025  0.485302 -0.874347  \n",
       "2011-11-20 -5.000000e-01   0.866025 -0.790776 -0.612106  \n",
       "2011-11-27 -5.000000e-01   0.866025 -0.724793  0.688967  \n",
       "2011-12-04 -2.449294e-16   1.000000  0.724793  0.688967  \n",
       "2011-12-11 -2.449294e-16   1.000000  0.790776 -0.612106  \n",
       "\n",
       "[106 rows x 14 columns]"
      ]
     },
     "execution_count": 15,
     "metadata": {},
     "output_type": "execute_result"
    }
   ],
   "source": [
    "df = add_features(df)\n",
    "df"
   ]
  },
  {
   "cell_type": "code",
   "execution_count": 11,
   "id": "52e693b8",
   "metadata": {},
   "outputs": [
    {
     "data": {
      "text/plain": [
       "216306.02500000002"
      ]
     },
     "execution_count": 11,
     "metadata": {},
     "output_type": "execute_result"
    }
   ],
   "source": [
    "(221870.29+210741.76) /2"
   ]
  },
  {
   "cell_type": "code",
   "execution_count": null,
   "metadata": {},
   "outputs": [],
   "source": []
  },
  {
   "cell_type": "markdown",
   "id": "20ae8079",
   "metadata": {},
   "source": [
    "## Split data\n",
    "\n",
    "Separate the data into training and testing sets, leaving the data after the last week of September to evaluate the forecasts, that is, in the testing set."
   ]
  },
  {
   "cell_type": "code",
   "execution_count": 17,
   "id": "2f3b2894",
   "metadata": {},
   "outputs": [],
   "source": [
    "df = df.dropna().reset_index(drop=True)\n",
    "train = df.iloc[:-1]\n",
    "test = df.iloc[-1]"
   ]
  },
  {
   "cell_type": "code",
   "execution_count": 33,
   "id": "95128b30",
   "metadata": {},
   "outputs": [
    {
     "data": {
      "text/plain": [
       "(101, 1)"
      ]
     },
     "execution_count": 33,
     "metadata": {},
     "output_type": "execute_result"
    }
   ],
   "source": [
    "len(train), len(pd.DataFrame(test).T)"
   ]
  },
  {
   "cell_type": "markdown",
   "id": "820803d5",
   "metadata": {},
   "source": [
    "## Naive forecast\n",
    "\n",
    "Predict sales in the next week (t) as the value of sales in the previous week (t-1)."
   ]
  },
  {
   "cell_type": "markdown",
   "id": "4058260e",
   "metadata": {},
   "source": [
    "## Machine Learning"
   ]
  },
  {
   "cell_type": "code",
   "execution_count": null,
   "id": "4957673a",
   "metadata": {},
   "outputs": [],
   "source": []
  }
 ],
 "metadata": {
  "kernelspec": {
   "display_name": "competitions-mfeXNZW0-py3.8",
   "language": "python",
   "name": "competitions-mfexnzw0-py3.8"
  },
  "language_info": {
   "codemirror_mode": {
    "name": "ipython",
    "version": 3
   },
   "file_extension": ".py",
   "mimetype": "text/x-python",
   "name": "python",
   "nbconvert_exporter": "python",
   "pygments_lexer": "ipython3",
   "version": "3.10.9"
  },
  "toc": {
   "base_numbering": 1,
   "nav_menu": {},
   "number_sections": true,
   "sideBar": true,
   "skip_h1_title": false,
   "title_cell": "Table of Contents",
   "title_sidebar": "Contents",
   "toc_cell": false,
   "toc_position": {},
   "toc_section_display": true,
   "toc_window_display": true
  },
  "vscode": {
   "interpreter": {
    "hash": "7874bf031a082e3a24081a13c4e3ecafe2d11d82db2e5459a56023f90a84bea0"
   }
  }
 },
 "nbformat": 4,
 "nbformat_minor": 5
}
